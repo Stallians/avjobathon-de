{
 "cells": [
  {
   "cell_type": "markdown",
   "id": "intellectual-candle",
   "metadata": {},
   "source": [
    "# Analytics Vidhya JobAThon - data engineering challange\n",
    "\n",
    "## Introduction\n",
    "\n",
    "This notebook contains the code developed for AV Jobathon challange.  \n",
    "**Author**: Ashish Agrawal  \n",
    "**Email ID**: ashish.agrawal1502@gmail.com  \n",
    "**LinkedIn**: https://www.linkedin.com/in/iashishagr  \n",
    "\n",
    "\n",
    "## Approach\n",
    "\n",
    "I started with loading tables first. I converted loaded data into appropriate datatype by transforming individual series. I added some other transformations to improve consistency & confirmed the same by calculating some stats for validation.\n",
    "\n",
    "\n",
    "Next I defined some helper methods to prepare data as per submission file in Section 3. I call these method in Section 4 where I prepare the final submission file, populate it & finally save it. \n",
    "\n",
    "## Data preprocessing/ Data cleaning ideas\n",
    "\n",
    "1. It was fun to work with date column (P.S. this was most challanging part :P). Eventually, separating the date values and null values & then applying datatype conversion worked. All credit goes to `mask` method.\n",
    "\n",
    "2. Case-normalising to UPPER case helped to reduce redundancy for some columns like `Activity` and `OS`\n",
    "\n",
    "3. Loops were *very* slow to assign values. Making whole series and updating to final table worked amazingly fast in comparison to former.\n",
    "\n",
    "\n",
    "## Tools Used\n",
    "\n",
    "I used pandas for this data engineering tasks.\n",
    "\n",
    "\n",
    "## Future Scope of work\n",
    "\n",
    "1. `VisitDateTime` can be imputed based on `UserID`, `webClientID` and location information.\n",
    "2. `Country` column needs cleaning. At places it contains country name with city/region name.\n",
    "\n"
   ]
  },
  {
   "cell_type": "code",
   "execution_count": 1,
   "id": "adaptive-concentration",
   "metadata": {},
   "outputs": [],
   "source": [
    "import pandas as pd\n",
    "import numpy as np\n",
    "import csv"
   ]
  },
  {
   "cell_type": "markdown",
   "id": "formal-binary",
   "metadata": {
    "tags": []
   },
   "source": [
    "# Loading *Visitor* Table"
   ]
  },
  {
   "cell_type": "code",
   "execution_count": 2,
   "id": "ranking-spanish",
   "metadata": {},
   "outputs": [
    {
     "data": {
      "text/html": [
       "<div>\n",
       "<style scoped>\n",
       "    .dataframe tbody tr th:only-of-type {\n",
       "        vertical-align: middle;\n",
       "    }\n",
       "\n",
       "    .dataframe tbody tr th {\n",
       "        vertical-align: top;\n",
       "    }\n",
       "\n",
       "    .dataframe thead th {\n",
       "        text-align: right;\n",
       "    }\n",
       "</style>\n",
       "<table border=\"1\" class=\"dataframe\">\n",
       "  <thead>\n",
       "    <tr style=\"text-align: right;\">\n",
       "      <th></th>\n",
       "      <th>webClientID</th>\n",
       "      <th>VisitDateTime</th>\n",
       "      <th>ProductID</th>\n",
       "      <th>UserID</th>\n",
       "      <th>Activity</th>\n",
       "      <th>Browser</th>\n",
       "      <th>OS</th>\n",
       "      <th>City</th>\n",
       "      <th>Country</th>\n",
       "    </tr>\n",
       "  </thead>\n",
       "  <tbody>\n",
       "    <tr>\n",
       "      <th>0</th>\n",
       "      <td>WI10000050298</td>\n",
       "      <td>2018-05-07 04:28:45.970</td>\n",
       "      <td>pr100631</td>\n",
       "      <td>NaN</td>\n",
       "      <td>NaN</td>\n",
       "      <td>Chrome Mobile</td>\n",
       "      <td>Android</td>\n",
       "      <td>Chennai</td>\n",
       "      <td>India</td>\n",
       "    </tr>\n",
       "    <tr>\n",
       "      <th>1</th>\n",
       "      <td>WI10000025922</td>\n",
       "      <td>2018-05-13 07:26:04.964</td>\n",
       "      <td>pr100707</td>\n",
       "      <td>NaN</td>\n",
       "      <td>NaN</td>\n",
       "      <td>Chrome</td>\n",
       "      <td>Windows</td>\n",
       "      <td>NaN</td>\n",
       "      <td>Taiwan</td>\n",
       "    </tr>\n",
       "    <tr>\n",
       "      <th>2</th>\n",
       "      <td>WI100000204522</td>\n",
       "      <td>2018-05-11 11:43:42.832</td>\n",
       "      <td>pr100030</td>\n",
       "      <td>NaN</td>\n",
       "      <td>click</td>\n",
       "      <td>Chrome</td>\n",
       "      <td>windows</td>\n",
       "      <td>Gurgaon</td>\n",
       "      <td>India</td>\n",
       "    </tr>\n",
       "    <tr>\n",
       "      <th>3</th>\n",
       "      <td>WI10000011974</td>\n",
       "      <td>2018-05-13 15:20:23.436</td>\n",
       "      <td>Pr100192</td>\n",
       "      <td>NaN</td>\n",
       "      <td>CLICK</td>\n",
       "      <td>Chrome</td>\n",
       "      <td>Windows</td>\n",
       "      <td></td>\n",
       "      <td></td>\n",
       "    </tr>\n",
       "    <tr>\n",
       "      <th>4</th>\n",
       "      <td>WI100000441953</td>\n",
       "      <td>2018-05-08 20:44:25.238</td>\n",
       "      <td>Pr100762</td>\n",
       "      <td>NaN</td>\n",
       "      <td>click</td>\n",
       "      <td>Chrome</td>\n",
       "      <td>mac os x</td>\n",
       "      <td>Iselin</td>\n",
       "      <td>United States</td>\n",
       "    </tr>\n",
       "  </tbody>\n",
       "</table>\n",
       "</div>"
      ],
      "text/plain": [
       "      webClientID            VisitDateTime ProductID UserID Activity  \\\n",
       "0   WI10000050298  2018-05-07 04:28:45.970  pr100631    NaN      NaN   \n",
       "1   WI10000025922  2018-05-13 07:26:04.964  pr100707    NaN      NaN   \n",
       "2  WI100000204522  2018-05-11 11:43:42.832  pr100030    NaN    click   \n",
       "3   WI10000011974  2018-05-13 15:20:23.436  Pr100192    NaN    CLICK   \n",
       "4  WI100000441953  2018-05-08 20:44:25.238  Pr100762    NaN    click   \n",
       "\n",
       "         Browser        OS     City        Country  \n",
       "0  Chrome Mobile   Android  Chennai          India  \n",
       "1         Chrome   Windows      NaN         Taiwan  \n",
       "2         Chrome   windows  Gurgaon          India  \n",
       "3         Chrome   Windows                          \n",
       "4         Chrome  mac os x   Iselin  United States  "
      ]
     },
     "execution_count": 2,
     "metadata": {},
     "output_type": "execute_result"
    }
   ],
   "source": [
    "# loading the tables\n",
    "# visitor = pd.read_csv('./data/VisitorLogsData.csv', parse_dates=[1], date_parser=date_handler)\n",
    "visitor = pd.read_csv('./data/VisitorLogsData.csv')\n",
    "visitor.head()"
   ]
  },
  {
   "cell_type": "markdown",
   "id": "contained-facility",
   "metadata": {},
   "source": [
    "## Transforming VisitDateTime from multiple dates into one"
   ]
  },
  {
   "cell_type": "code",
   "execution_count": 3,
   "id": "intermediate-arabic",
   "metadata": {
    "tags": []
   },
   "outputs": [],
   "source": [
    "# helper function for date transformation\n",
    "def date_handler(col):\n",
    "    '''\n",
    "    It expects the dates in input column in 2 formats:\n",
    "    1. One is in datetime format “2018-05-07 04:28:45.970”\n",
    "    2. Another one is in unix timestamp nanosecond format “1527051855673000000”\n",
    "       \n",
    "    '''\n",
    "    # converting dates of first format \n",
    "    type1_dates = pd.to_datetime(col, format=\"%Y-%m-%d %H:%M:%S.%f\", errors='coerce')\n",
    "    \n",
    "    # getting index where date in not like first format\n",
    "    mask = type1_dates.isnull()\n",
    "    \n",
    "    # separating type 2 date format and nulls (if any)\n",
    "    dates_with_nulls = col[mask]\n",
    "    type2_dates = dates_with_nulls[~dates_with_nulls.isnull()]\n",
    "    \n",
    "    # converting type 2 date format i.e. timestamps into datetime\n",
    "    type2_dates = pd.to_datetime(type2_dates.astype('int64'),unit='ns')\n",
    "    \n",
    "    # replacing null values in type1_dates with corresponding row value from type2_dates\n",
    "    type1_dates = type1_dates.mask(pd.isnull, type2_dates)\n",
    "    \n",
    "    return type1_dates"
   ]
  },
  {
   "cell_type": "code",
   "execution_count": 4,
   "id": "hairy-speaking",
   "metadata": {},
   "outputs": [
    {
     "name": "stdout",
     "output_type": "stream",
     "text": [
      "658915\n",
      "658915\n",
      "6588000\n"
     ]
    }
   ],
   "source": [
    "# getting number of nulls before transformation\n",
    "before_null = visitor.VisitDateTime.isnull()\n",
    "print(before_null.sum())\n",
    "\n",
    "# transforming VisitDateTime column\n",
    "visitor.VisitDateTime=date_handler(visitor.VisitDateTime)\n",
    "\n",
    "# getting number of nulls after transformation\n",
    "after_null = visitor.VisitDateTime.isnull()\n",
    "print(after_null.sum())\n",
    "\n",
    "# comparing both before and after nulls\n",
    "compare = (before_null == after_null)\n",
    "print(compare.sum())"
   ]
  },
  {
   "cell_type": "markdown",
   "id": "careful-company",
   "metadata": {},
   "source": [
    "Hence, we have converted all the initially given not-null date values into datetime format, leaving existing null values as it is."
   ]
  },
  {
   "cell_type": "code",
   "execution_count": 5,
   "id": "protected-hostel",
   "metadata": {},
   "outputs": [
    {
     "name": "stdout",
     "output_type": "stream",
     "text": [
      "2018-05-27 23:59:59.576000\n",
      "2018-05-07 00:00:01.419000\n"
     ]
    }
   ],
   "source": [
    "# getting max and min date\n",
    "print(visitor.VisitDateTime.max())\n",
    "print(visitor.VisitDateTime.min())"
   ]
  },
  {
   "cell_type": "markdown",
   "id": "professional-campbell",
   "metadata": {},
   "source": [
    "This min max time values are in accordance with data description"
   ]
  },
  {
   "cell_type": "markdown",
   "id": "innocent-condition",
   "metadata": {},
   "source": [
    "## Transforming Activity into upper case"
   ]
  },
  {
   "cell_type": "code",
   "execution_count": 6,
   "id": "alternative-backup",
   "metadata": {},
   "outputs": [],
   "source": [
    "visitor.Activity = visitor.Activity.str.upper()"
   ]
  },
  {
   "cell_type": "markdown",
   "id": "challenging-summit",
   "metadata": {},
   "source": [
    "## Transforming ProductID into upper case"
   ]
  },
  {
   "cell_type": "code",
   "execution_count": 7,
   "id": "fallen-albania",
   "metadata": {},
   "outputs": [],
   "source": [
    "visitor.ProductID = visitor.ProductID.str.upper()"
   ]
  },
  {
   "cell_type": "markdown",
   "id": "emerging-silver",
   "metadata": {},
   "source": [
    "## Transforming OS into upper case"
   ]
  },
  {
   "cell_type": "code",
   "execution_count": 8,
   "id": "unusual-homeless",
   "metadata": {},
   "outputs": [],
   "source": [
    "visitor.OS = visitor.OS.str.upper()"
   ]
  },
  {
   "cell_type": "markdown",
   "id": "agreed-liberia",
   "metadata": {},
   "source": [
    "## Informative Stats"
   ]
  },
  {
   "cell_type": "code",
   "execution_count": 9,
   "id": "mobile-thesis",
   "metadata": {},
   "outputs": [
    {
     "name": "stdout",
     "output_type": "stream",
     "text": [
      "<class 'pandas.core.frame.DataFrame'>\n",
      "RangeIndex: 6588000 entries, 0 to 6587999\n",
      "Data columns (total 9 columns):\n",
      " #   Column         Dtype         \n",
      "---  ------         -----         \n",
      " 0   webClientID    object        \n",
      " 1   VisitDateTime  datetime64[ns]\n",
      " 2   ProductID      object        \n",
      " 3   UserID         object        \n",
      " 4   Activity       object        \n",
      " 5   Browser        object        \n",
      " 6   OS             object        \n",
      " 7   City           object        \n",
      " 8   Country        object        \n",
      "dtypes: datetime64[ns](1), object(8)\n",
      "memory usage: 452.4+ MB\n"
     ]
    }
   ],
   "source": [
    "# Datatypes\n",
    "visitor.info()"
   ]
  },
  {
   "cell_type": "code",
   "execution_count": 10,
   "id": "critical-module",
   "metadata": {},
   "outputs": [
    {
     "data": {
      "text/plain": [
       "webClientID            0\n",
       "VisitDateTime     658915\n",
       "ProductID         527137\n",
       "UserID           5937305\n",
       "Activity          889446\n",
       "Browser                0\n",
       "OS                     0\n",
       "City             2165831\n",
       "Country           397693\n",
       "dtype: int64"
      ]
     },
     "execution_count": 10,
     "metadata": {},
     "output_type": "execute_result"
    }
   ],
   "source": [
    "# Nulls\n",
    "visitor.isnull().sum()"
   ]
  },
  {
   "cell_type": "code",
   "execution_count": 11,
   "id": "opening-paper",
   "metadata": {},
   "outputs": [
    {
     "data": {
      "text/plain": [
       "(34051,)"
      ]
     },
     "execution_count": 11,
     "metadata": {},
     "output_type": "execute_result"
    }
   ],
   "source": [
    "# Unique user IDs\n",
    "visitor.UserID.unique().shape"
   ]
  },
  {
   "cell_type": "code",
   "execution_count": 12,
   "id": "historic-variation",
   "metadata": {},
   "outputs": [
    {
     "data": {
      "text/plain": [
       "CLICK       3800629\n",
       "PAGELOAD    1897925\n",
       "NaN          889446\n",
       "Name: Activity, dtype: int64"
      ]
     },
     "execution_count": 12,
     "metadata": {},
     "output_type": "execute_result"
    }
   ],
   "source": [
    "# Unique activity\n",
    "visitor.Activity.value_counts(dropna=False)"
   ]
  },
  {
   "cell_type": "code",
   "execution_count": 13,
   "id": "naval-shape",
   "metadata": {},
   "outputs": [
    {
     "data": {
      "text/plain": [
       "WINDOWS          4245913\n",
       "ANDROID           937713\n",
       "MAC OS X          829915\n",
       "LINUX             333623\n",
       "IOS               135357\n",
       "UBUNTU             90184\n",
       "CHROME OS          10091\n",
       "FEDORA              4270\n",
       "OTHER                796\n",
       "WINDOWS PHONE         46\n",
       "TIZEN                 34\n",
       "FREEBSD               28\n",
       "SOLARIS                6\n",
       "OPENBSD                6\n",
       "NETBSD                 6\n",
       "CHROMECAST             6\n",
       "KINDLE                 3\n",
       "BLACKBERRY OS          3\n",
       "Name: OS, dtype: int64"
      ]
     },
     "execution_count": 13,
     "metadata": {},
     "output_type": "execute_result"
    }
   ],
   "source": [
    "# Unique OS\n",
    "visitor.OS.value_counts(dropna=False)"
   ]
  },
  {
   "cell_type": "code",
   "execution_count": 14,
   "id": "latter-central",
   "metadata": {},
   "outputs": [
    {
     "data": {
      "text/plain": [
       "18914"
      ]
     },
     "execution_count": 14,
     "metadata": {},
     "output_type": "execute_result"
    }
   ],
   "source": [
    "# checking for country \n",
    "visitor.Country.nunique()"
   ]
  },
  {
   "cell_type": "code",
   "execution_count": 15,
   "id": "female-military",
   "metadata": {},
   "outputs": [
    {
     "data": {
      "text/plain": [
       "6586059                       India\n",
       "1268529                       India\n",
       "5665547                     Morocco\n",
       "5288453               Brazil Recife\n",
       "72902                         China\n",
       "3643736    United Kingdom Edinburgh\n",
       "1770474                Turkey Izmir\n",
       "2664343                   Singapore\n",
       "3599895                       India\n",
       "4605309     Taiwan Taoyuan District\n",
       "Name: Country, dtype: object"
      ]
     },
     "execution_count": 15,
     "metadata": {},
     "output_type": "execute_result"
    }
   ],
   "source": [
    "visitor.Country.sample(10)"
   ]
  },
  {
   "cell_type": "markdown",
   "id": "opposite-honor",
   "metadata": {},
   "source": [
    "This column needs cleaning as there can be only 193 countries"
   ]
  },
  {
   "cell_type": "code",
   "execution_count": 16,
   "id": "mature-processing",
   "metadata": {},
   "outputs": [
    {
     "name": "stdout",
     "output_type": "stream",
     "text": [
      "0\n"
     ]
    }
   ],
   "source": [
    "# checking for common webclient ids among records with & without user id \n",
    "\n",
    "cidwithusers = visitor[~visitor.UserID.isnull()].webClientID.to_list()\n",
    "cidwithoutusers = visitor[visitor.UserID.isnull()].webClientID.to_list()\n",
    "\n",
    "z=np.intersect1d(cidwithusers,cidwithoutusers)\n",
    "\n",
    "print(len(z))"
   ]
  },
  {
   "cell_type": "markdown",
   "id": "respected-washer",
   "metadata": {},
   "source": [
    "If this is 0, then there is no any prior activity of any registered user "
   ]
  },
  {
   "cell_type": "markdown",
   "id": "flexible-virus",
   "metadata": {},
   "source": [
    "---"
   ]
  },
  {
   "cell_type": "markdown",
   "id": "assisted-sierra",
   "metadata": {
    "tags": []
   },
   "source": [
    "# Loading *User* Table"
   ]
  },
  {
   "cell_type": "code",
   "execution_count": 17,
   "id": "seasonal-gilbert",
   "metadata": {},
   "outputs": [
    {
     "data": {
      "text/html": [
       "<div>\n",
       "<style scoped>\n",
       "    .dataframe tbody tr th:only-of-type {\n",
       "        vertical-align: middle;\n",
       "    }\n",
       "\n",
       "    .dataframe tbody tr th {\n",
       "        vertical-align: top;\n",
       "    }\n",
       "\n",
       "    .dataframe thead th {\n",
       "        text-align: right;\n",
       "    }\n",
       "</style>\n",
       "<table border=\"1\" class=\"dataframe\">\n",
       "  <thead>\n",
       "    <tr style=\"text-align: right;\">\n",
       "      <th></th>\n",
       "      <th>UserID</th>\n",
       "      <th>Signup Date</th>\n",
       "      <th>User Segment</th>\n",
       "    </tr>\n",
       "  </thead>\n",
       "  <tbody>\n",
       "    <tr>\n",
       "      <th>0</th>\n",
       "      <td>U133159</td>\n",
       "      <td>2018-04-14 07:01:16.202607+00:00</td>\n",
       "      <td>C</td>\n",
       "    </tr>\n",
       "    <tr>\n",
       "      <th>1</th>\n",
       "      <td>U129368</td>\n",
       "      <td>2017-12-02 09:38:41.584270+00:00</td>\n",
       "      <td>B</td>\n",
       "    </tr>\n",
       "    <tr>\n",
       "      <th>2</th>\n",
       "      <td>U109654</td>\n",
       "      <td>2013-03-19 11:38:55+00:00</td>\n",
       "      <td>B</td>\n",
       "    </tr>\n",
       "    <tr>\n",
       "      <th>3</th>\n",
       "      <td>U108998</td>\n",
       "      <td>2018-01-18 08:29:51.627954+00:00</td>\n",
       "      <td>C</td>\n",
       "    </tr>\n",
       "    <tr>\n",
       "      <th>4</th>\n",
       "      <td>U131393</td>\n",
       "      <td>2018-03-27 08:05:28.806800+00:00</td>\n",
       "      <td>B</td>\n",
       "    </tr>\n",
       "  </tbody>\n",
       "</table>\n",
       "</div>"
      ],
      "text/plain": [
       "    UserID                      Signup Date User Segment\n",
       "0  U133159 2018-04-14 07:01:16.202607+00:00            C\n",
       "1  U129368 2017-12-02 09:38:41.584270+00:00            B\n",
       "2  U109654        2013-03-19 11:38:55+00:00            B\n",
       "3  U108998 2018-01-18 08:29:51.627954+00:00            C\n",
       "4  U131393 2018-03-27 08:05:28.806800+00:00            B"
      ]
     },
     "execution_count": 17,
     "metadata": {},
     "output_type": "execute_result"
    }
   ],
   "source": [
    "user = pd.read_csv('data/userTable.csv', parse_dates=[1], infer_datetime_format=True)\n",
    "user.head()"
   ]
  },
  {
   "cell_type": "markdown",
   "id": "functioning-supervisor",
   "metadata": {},
   "source": [
    "## Informative Stats"
   ]
  },
  {
   "cell_type": "code",
   "execution_count": 18,
   "id": "moderate-grade",
   "metadata": {},
   "outputs": [
    {
     "name": "stdout",
     "output_type": "stream",
     "text": [
      "<class 'pandas.core.frame.DataFrame'>\n",
      "RangeIndex: 34050 entries, 0 to 34049\n",
      "Data columns (total 3 columns):\n",
      " #   Column        Non-Null Count  Dtype              \n",
      "---  ------        --------------  -----              \n",
      " 0   UserID        34050 non-null  object             \n",
      " 1   Signup Date   34050 non-null  datetime64[ns, UTC]\n",
      " 2   User Segment  34050 non-null  object             \n",
      "dtypes: datetime64[ns, UTC](1), object(2)\n",
      "memory usage: 798.2+ KB\n"
     ]
    }
   ],
   "source": [
    "# Datatypes\n",
    "user.info()"
   ]
  },
  {
   "cell_type": "code",
   "execution_count": 19,
   "id": "personalized-scheme",
   "metadata": {},
   "outputs": [
    {
     "data": {
      "text/plain": [
       "UserID          0\n",
       "Signup Date     0\n",
       "User Segment    0\n",
       "dtype: int64"
      ]
     },
     "execution_count": 19,
     "metadata": {},
     "output_type": "execute_result"
    }
   ],
   "source": [
    "# Nulls\n",
    "user.isnull().sum()"
   ]
  },
  {
   "cell_type": "code",
   "execution_count": 20,
   "id": "attended-logistics",
   "metadata": {},
   "outputs": [
    {
     "data": {
      "text/plain": [
       "(34050,)"
      ]
     },
     "execution_count": 20,
     "metadata": {},
     "output_type": "execute_result"
    }
   ],
   "source": [
    "# Unique user IDs\n",
    "user.UserID.unique().shape"
   ]
  },
  {
   "cell_type": "code",
   "execution_count": 21,
   "id": "computational-girlfriend",
   "metadata": {},
   "outputs": [
    {
     "name": "stdout",
     "output_type": "stream",
     "text": [
      "2018-05-20 07:06:47.531020+00:00\n",
      "2010-12-01 03:11:51+00:00\n"
     ]
    }
   ],
   "source": [
    "# Max/min vintage\n",
    "print(user['Signup Date'].max())\n",
    "print(user['Signup Date'].min())"
   ]
  },
  {
   "cell_type": "code",
   "execution_count": 22,
   "id": "superior-judgment",
   "metadata": {},
   "outputs": [
    {
     "data": {
      "text/plain": [
       "<UTC>"
      ]
     },
     "execution_count": 22,
     "metadata": {},
     "output_type": "execute_result"
    }
   ],
   "source": [
    "# Getting timezone information\n",
    "user['Signup Date'].dt.tz"
   ]
  },
  {
   "cell_type": "markdown",
   "id": "empirical-corrections",
   "metadata": {},
   "source": [
    "All of the sign up dates have same timezone - UTC"
   ]
  },
  {
   "cell_type": "markdown",
   "id": "described-luxembourg",
   "metadata": {},
   "source": [
    "---"
   ]
  },
  {
   "cell_type": "markdown",
   "id": "intensive-shadow",
   "metadata": {},
   "source": [
    "# Helper Data preparation methods"
   ]
  },
  {
   "cell_type": "code",
   "execution_count": 23,
   "id": "vietnamese-criminal",
   "metadata": {},
   "outputs": [],
   "source": [
    "merged = user.merge(visitor, on='UserID')"
   ]
  },
  {
   "cell_type": "code",
   "execution_count": 24,
   "id": "automatic-finish",
   "metadata": {},
   "outputs": [
    {
     "data": {
      "text/plain": [
       "Index(['UserID', 'Signup Date', 'User Segment', 'webClientID', 'VisitDateTime',\n",
       "       'ProductID', 'Activity', 'Browser', 'OS', 'City', 'Country'],\n",
       "      dtype='object')"
      ]
     },
     "execution_count": 24,
     "metadata": {},
     "output_type": "execute_result"
    }
   ],
   "source": [
    "merged.columns"
   ]
  },
  {
   "cell_type": "code",
   "execution_count": 25,
   "id": "european-trinidad",
   "metadata": {},
   "outputs": [],
   "source": [
    "def get_user_visits(user_table, visitor_table):\n",
    "    date_7_days_ago = pd.Timestamp(2018,5,21)\n",
    "    merged = user_table.merge(visitor_table, on='UserID').copy()\n",
    "    last_7_days_activity_dates = merged[merged.VisitDateTime >= date_7_days_ago][['UserID','VisitDateTime']]\n",
    "    last_7_days_activity_dates.VisitDateTime=last_7_days_activity_dates.VisitDateTime.map(lambda t: t.date())\n",
    "    user_visits = last_7_days_activity_dates.groupby('UserID')['VisitDateTime'].nunique()\n",
    "    return user_visits"
   ]
  },
  {
   "cell_type": "code",
   "execution_count": 26,
   "id": "minor-protection",
   "metadata": {},
   "outputs": [],
   "source": [
    "def get_product_visits(user_table, visitor_table):\n",
    "    date_15_days_ago = pd.Timestamp(2018,5,13)\n",
    "    merged = user_table.merge(visitor_table, on='UserID').copy()\n",
    "    last_15_days_productvisits = merged[merged.VisitDateTime >= date_15_days_ago][['UserID','ProductID']]\n",
    "    product_visits = last_15_days_productvisits.groupby('UserID')['ProductID'].nunique()\n",
    "    return product_visits"
   ]
  },
  {
   "cell_type": "code",
   "execution_count": 27,
   "id": "helpful-error",
   "metadata": {},
   "outputs": [],
   "source": [
    "def get_user_vintage(user_table):\n",
    "    user_table= user_table.copy()\n",
    "    today = pd.Timestamp(2018,5,28)\n",
    "    user_table['vintage'] =  user_table['Signup Date'].map(lambda t: (today.date()-t.date()).days)\n",
    "    user_table.drop(columns=['User Segment','Signup Date'], inplace=True)\n",
    "    user_table.set_index(['UserID'], inplace=True)\n",
    "    return user_table"
   ]
  },
  {
   "cell_type": "code",
   "execution_count": 28,
   "id": "detailed-vitamin",
   "metadata": {},
   "outputs": [],
   "source": [
    "def get_most_viewed_product(user_table, visitor_table):\n",
    "    date_15_days_ago = pd.Timestamp(2018,5,13)\n",
    "    merged = user_table.merge(visitor_table, on='UserID').copy()\n",
    "    last_15_days_vp = merged[(merged.VisitDateTime >= date_15_days_ago) & (merged.Activity=='PAGELOAD')][['UserID','ProductID','VisitDateTime']]\n",
    "    last_15_days_vp['idx'] = last_15_days_vp.index\n",
    "    product_views_count = last_15_days_vp.pivot_table(values=['idx','VisitDateTime'], index=['UserID','ProductID'], aggfunc={'idx':'count', 'VisitDateTime':'max'})\n",
    "    mvp_count = product_views_count.reset_index().sort_values(['UserID', 'idx','VisitDateTime'], ascending=[True, False, False])\n",
    "    mvp_count.drop_duplicates(['UserID'], inplace=True)\n",
    "    mvp_count.drop(columns=['idx','VisitDateTime'], inplace=True)\n",
    "    mvp_count.set_index(['UserID'], inplace=True)\n",
    "    return mvp_count"
   ]
  },
  {
   "cell_type": "code",
   "execution_count": 29,
   "id": "opposed-telling",
   "metadata": {},
   "outputs": [],
   "source": [
    "def get_most_active_os(user_table, visitor_table):\n",
    "    merged = user_table.merge(visitor_table, on='UserID').copy()\n",
    "    user_os = merged[['UserID','OS','VisitDateTime']]\n",
    "    user_os['idx'] = user_os.index\n",
    "    os_count = user_os.pivot_table(values=['idx','VisitDateTime'], index=['UserID','OS'], aggfunc={'idx':'count', 'VisitDateTime':'max'})\n",
    "    maos_count = os_count.reset_index().sort_values(['UserID', 'idx','VisitDateTime'], ascending=[True, False, False])\n",
    "    maos_count.drop_duplicates(['UserID'], inplace=True)\n",
    "    maos_count.drop(columns=['idx','VisitDateTime'], inplace=True)\n",
    "    maos_count.set_index(['UserID'], inplace=True)\n",
    "    return maos_count"
   ]
  },
  {
   "cell_type": "code",
   "execution_count": 30,
   "id": "banned-brazilian",
   "metadata": {},
   "outputs": [],
   "source": [
    "def get_recently_viewed_product(user_table, visitor_table):\n",
    "    merged = user_table.merge(visitor_table, on='UserID').copy()\n",
    "    product_views = merged[(merged.Activity=='PAGELOAD')][['UserID','ProductID','VisitDateTime']]\n",
    "    rvp_count = product_views.sort_values(['UserID', 'VisitDateTime'], ascending=[True, False])\n",
    "    rvp_count.drop_duplicates(['UserID'], inplace=True)\n",
    "    rvp_count.drop(columns=['VisitDateTime'], inplace=True)\n",
    "    rvp_count.set_index(['UserID'], inplace=True)\n",
    "    return rvp_count"
   ]
  },
  {
   "cell_type": "code",
   "execution_count": 31,
   "id": "buried-korean",
   "metadata": {},
   "outputs": [],
   "source": [
    "def get_user_pageloads(user_table, visitor_table):\n",
    "    date_7_days_ago = pd.Timestamp(2018,5,21)\n",
    "    merged = user_table.merge(visitor_table, on='UserID').copy()\n",
    "    user_pageloads = merged[(merged.VisitDateTime >= date_7_days_ago) & (merged.Activity=='PAGELOAD')][['UserID','Activity']]\n",
    "    user_pageload_count = user_pageloads.groupby('UserID')['Activity'].count()\n",
    "    return user_pageload_count"
   ]
  },
  {
   "cell_type": "code",
   "execution_count": 32,
   "id": "controversial-aquarium",
   "metadata": {},
   "outputs": [],
   "source": [
    "def get_user_clicks(user_table, visitor_table):\n",
    "    date_7_days_ago = pd.Timestamp(2018,5,21)\n",
    "    merged = user_table.merge(visitor_table, on='UserID').copy()\n",
    "    user_clicks = merged[(merged.VisitDateTime >= date_7_days_ago) & (merged.Activity=='CLICK')][['UserID','Activity']]\n",
    "    user_click_count = user_clicks.groupby('UserID')['Activity'].count()\n",
    "    return user_click_count"
   ]
  },
  {
   "cell_type": "markdown",
   "id": "assured-wesley",
   "metadata": {},
   "source": [
    "___"
   ]
  },
  {
   "cell_type": "markdown",
   "id": "major-moore",
   "metadata": {},
   "source": [
    "# Preparing final *Submission* Table"
   ]
  },
  {
   "cell_type": "markdown",
   "id": "arabic-pension",
   "metadata": {},
   "source": [
    "## Populating final *Submission* Table"
   ]
  },
  {
   "cell_type": "code",
   "execution_count": 33,
   "id": "stupid-reference",
   "metadata": {},
   "outputs": [],
   "source": [
    "submission = pd.read_csv('./submission_format.csv')\n",
    "submission.head()\n",
    "submission['UserIDidx'] = submission.UserID\n",
    "submission.set_index('UserIDidx', inplace=True)"
   ]
  },
  {
   "cell_type": "code",
   "execution_count": 34,
   "id": "optical-nickname",
   "metadata": {},
   "outputs": [
    {
     "data": {
      "text/html": [
       "<div>\n",
       "<style scoped>\n",
       "    .dataframe tbody tr th:only-of-type {\n",
       "        vertical-align: middle;\n",
       "    }\n",
       "\n",
       "    .dataframe tbody tr th {\n",
       "        vertical-align: top;\n",
       "    }\n",
       "\n",
       "    .dataframe thead th {\n",
       "        text-align: right;\n",
       "    }\n",
       "</style>\n",
       "<table border=\"1\" class=\"dataframe\">\n",
       "  <thead>\n",
       "    <tr style=\"text-align: right;\">\n",
       "      <th></th>\n",
       "      <th>UserID</th>\n",
       "      <th>No_of_days_Visited_7_Days</th>\n",
       "      <th>No_Of_Products_Viewed_15_Days</th>\n",
       "      <th>User_Vintage</th>\n",
       "      <th>Most_Viewed_product_15_Days</th>\n",
       "      <th>Most_Active_OS</th>\n",
       "      <th>Recently_Viewed_Product</th>\n",
       "      <th>Pageloads_last_7_days</th>\n",
       "      <th>Clicks_last_7_days</th>\n",
       "    </tr>\n",
       "    <tr>\n",
       "      <th>UserIDidx</th>\n",
       "      <th></th>\n",
       "      <th></th>\n",
       "      <th></th>\n",
       "      <th></th>\n",
       "      <th></th>\n",
       "      <th></th>\n",
       "      <th></th>\n",
       "      <th></th>\n",
       "      <th></th>\n",
       "    </tr>\n",
       "  </thead>\n",
       "  <tbody>\n",
       "    <tr>\n",
       "      <th>U100002</th>\n",
       "      <td>U100002</td>\n",
       "      <td>NaN</td>\n",
       "      <td>NaN</td>\n",
       "      <td>NaN</td>\n",
       "      <td>NaN</td>\n",
       "      <td>NaN</td>\n",
       "      <td>NaN</td>\n",
       "      <td>NaN</td>\n",
       "      <td>NaN</td>\n",
       "    </tr>\n",
       "    <tr>\n",
       "      <th>U100003</th>\n",
       "      <td>U100003</td>\n",
       "      <td>NaN</td>\n",
       "      <td>NaN</td>\n",
       "      <td>NaN</td>\n",
       "      <td>NaN</td>\n",
       "      <td>NaN</td>\n",
       "      <td>NaN</td>\n",
       "      <td>NaN</td>\n",
       "      <td>NaN</td>\n",
       "    </tr>\n",
       "    <tr>\n",
       "      <th>U100004</th>\n",
       "      <td>U100004</td>\n",
       "      <td>NaN</td>\n",
       "      <td>NaN</td>\n",
       "      <td>NaN</td>\n",
       "      <td>NaN</td>\n",
       "      <td>NaN</td>\n",
       "      <td>NaN</td>\n",
       "      <td>NaN</td>\n",
       "      <td>NaN</td>\n",
       "    </tr>\n",
       "    <tr>\n",
       "      <th>U100005</th>\n",
       "      <td>U100005</td>\n",
       "      <td>NaN</td>\n",
       "      <td>NaN</td>\n",
       "      <td>NaN</td>\n",
       "      <td>NaN</td>\n",
       "      <td>NaN</td>\n",
       "      <td>NaN</td>\n",
       "      <td>NaN</td>\n",
       "      <td>NaN</td>\n",
       "    </tr>\n",
       "    <tr>\n",
       "      <th>U100006</th>\n",
       "      <td>U100006</td>\n",
       "      <td>NaN</td>\n",
       "      <td>NaN</td>\n",
       "      <td>NaN</td>\n",
       "      <td>NaN</td>\n",
       "      <td>NaN</td>\n",
       "      <td>NaN</td>\n",
       "      <td>NaN</td>\n",
       "      <td>NaN</td>\n",
       "    </tr>\n",
       "  </tbody>\n",
       "</table>\n",
       "</div>"
      ],
      "text/plain": [
       "            UserID  No_of_days_Visited_7_Days  No_Of_Products_Viewed_15_Days  \\\n",
       "UserIDidx                                                                      \n",
       "U100002    U100002                        NaN                            NaN   \n",
       "U100003    U100003                        NaN                            NaN   \n",
       "U100004    U100004                        NaN                            NaN   \n",
       "U100005    U100005                        NaN                            NaN   \n",
       "U100006    U100006                        NaN                            NaN   \n",
       "\n",
       "           User_Vintage  Most_Viewed_product_15_Days  Most_Active_OS  \\\n",
       "UserIDidx                                                              \n",
       "U100002             NaN                          NaN             NaN   \n",
       "U100003             NaN                          NaN             NaN   \n",
       "U100004             NaN                          NaN             NaN   \n",
       "U100005             NaN                          NaN             NaN   \n",
       "U100006             NaN                          NaN             NaN   \n",
       "\n",
       "           Recently_Viewed_Product  Pageloads_last_7_days  Clicks_last_7_days  \n",
       "UserIDidx                                                                      \n",
       "U100002                        NaN                    NaN                 NaN  \n",
       "U100003                        NaN                    NaN                 NaN  \n",
       "U100004                        NaN                    NaN                 NaN  \n",
       "U100005                        NaN                    NaN                 NaN  \n",
       "U100006                        NaN                    NaN                 NaN  "
      ]
     },
     "execution_count": 34,
     "metadata": {},
     "output_type": "execute_result"
    }
   ],
   "source": [
    "submission.head()"
   ]
  },
  {
   "cell_type": "code",
   "execution_count": 35,
   "id": "stuffed-newcastle",
   "metadata": {
    "tags": []
   },
   "outputs": [
    {
     "name": "stdout",
     "output_type": "stream",
     "text": [
      "0    17878\n",
      "1    10692\n",
      "2     3217\n",
      "3     1253\n",
      "4      555\n",
      "5      261\n",
      "6      132\n",
      "7       62\n",
      "Name: No_of_days_Visited_7_Days, dtype: Int64\n"
     ]
    }
   ],
   "source": [
    "# filling value for No_of_days_Visited_7_Days\n",
    "submission.No_of_days_Visited_7_Days = get_user_visits(user,visitor)\n",
    "submission.No_of_days_Visited_7_Days.fillna(0, inplace=True)\n",
    "submission = submission.astype({'No_of_days_Visited_7_Days':'Int64'})\n",
    "\n",
    "# asserting values are between 0-7\n",
    "print(submission.No_of_days_Visited_7_Days.value_counts())"
   ]
  },
  {
   "cell_type": "code",
   "execution_count": 36,
   "id": "naughty-force",
   "metadata": {
    "tags": []
   },
   "outputs": [
    {
     "name": "stdout",
     "output_type": "stream",
     "text": [
      "1     11832\n",
      "0      8609\n",
      "2      4843\n",
      "3      2836\n",
      "4      1640\n",
      "5      1127\n",
      "6       770\n",
      "7       520\n",
      "8       393\n",
      "9       284\n",
      "10      240\n",
      "11      179\n",
      "13      117\n",
      "12      115\n",
      "14       84\n",
      "15       57\n",
      "16       52\n",
      "18       49\n",
      "17       44\n",
      "19       34\n",
      "21       26\n",
      "20       20\n",
      "22       16\n",
      "24       16\n",
      "26       14\n",
      "27       14\n",
      "29       13\n",
      "23       12\n",
      "25       11\n",
      "31       10\n",
      "28        8\n",
      "33        8\n",
      "36        6\n",
      "32        4\n",
      "35        4\n",
      "37        4\n",
      "38        3\n",
      "34        3\n",
      "44        3\n",
      "43        3\n",
      "40        3\n",
      "41        3\n",
      "66        2\n",
      "46        2\n",
      "42        2\n",
      "49        2\n",
      "68        1\n",
      "47        1\n",
      "54        1\n",
      "69        1\n",
      "39        1\n",
      "97        1\n",
      "65        1\n",
      "77        1\n",
      "50        1\n",
      "64        1\n",
      "61        1\n",
      "30        1\n",
      "83        1\n",
      "Name: No_Of_Products_Viewed_15_Days, dtype: Int64\n"
     ]
    }
   ],
   "source": [
    "# filling value for No_Of_Products_Viewed_15_Days\n",
    "submission.No_Of_Products_Viewed_15_Days = get_product_visits(user,visitor)\n",
    "submission.No_Of_Products_Viewed_15_Days.fillna(0, inplace=True)\n",
    "submission = submission.astype({'No_Of_Products_Viewed_15_Days':'Int64'})\n",
    "\n",
    "print(submission.No_Of_Products_Viewed_15_Days.value_counts())"
   ]
  },
  {
   "cell_type": "code",
   "execution_count": 37,
   "id": "exciting-jackson",
   "metadata": {
    "tags": []
   },
   "outputs": [
    {
     "name": "stdout",
     "output_type": "stream",
     "text": [
      "53      311\n",
      "48      308\n",
      "49      303\n",
      "47      302\n",
      "59      293\n",
      "       ... \n",
      "2017      1\n",
      "2051      1\n",
      "2271      1\n",
      "2085      1\n",
      "2047      1\n",
      "Name: User_Vintage, Length: 1998, dtype: Int64\n"
     ]
    }
   ],
   "source": [
    "# filling value for User_Vintage\n",
    "submission.User_Vintage = get_user_vintage(user)\n",
    "submission.User_Vintage.fillna(0, inplace=True)\n",
    "submission = submission.astype({'User_Vintage':'Int64'})\n",
    "\n",
    "print(submission.User_Vintage.value_counts())"
   ]
  },
  {
   "cell_type": "code",
   "execution_count": 38,
   "id": "orange-underwear",
   "metadata": {
    "tags": []
   },
   "outputs": [
    {
     "name": "stdout",
     "output_type": "stream",
     "text": [
      "Product101    12396\n",
      "PR100017       1331\n",
      "PR100166        764\n",
      "PR100102        760\n",
      "PR100390        499\n",
      "              ...  \n",
      "PR100971          1\n",
      "PR106397          1\n",
      "PR105454          1\n",
      "PR103383          1\n",
      "PR103997          1\n",
      "Name: Most_Viewed_product_15_Days, Length: 1885, dtype: int64\n"
     ]
    }
   ],
   "source": [
    "# filling value for Most_Viewed_product_15_Days\n",
    "submission.Most_Viewed_product_15_Days = get_most_viewed_product(user, visitor)\n",
    "submission.Most_Viewed_product_15_Days.fillna('Product101', inplace=True)\n",
    "\n",
    "print(submission.Most_Viewed_product_15_Days.value_counts())"
   ]
  },
  {
   "cell_type": "code",
   "execution_count": 39,
   "id": "academic-tradition",
   "metadata": {
    "tags": []
   },
   "outputs": [
    {
     "name": "stderr",
     "output_type": "stream",
     "text": [
      "C:\\Users\\ashis\\Anaconda3\\lib\\site-packages\\ipykernel_launcher.py:4: SettingWithCopyWarning: \n",
      "A value is trying to be set on a copy of a slice from a DataFrame.\n",
      "Try using .loc[row_indexer,col_indexer] = value instead\n",
      "\n",
      "See the caveats in the documentation: https://pandas.pydata.org/pandas-docs/stable/user_guide/indexing.html#returning-a-view-versus-a-copy\n",
      "  after removing the cwd from sys.path.\n"
     ]
    },
    {
     "name": "stdout",
     "output_type": "stream",
     "text": [
      "WINDOWS      20093\n",
      "ANDROID       9798\n",
      "MAC OS X      2426\n",
      "LINUX          926\n",
      "IOS            486\n",
      "UBUNTU         295\n",
      "CHROME OS       14\n",
      "FEDORA          12\n",
      "Name: Most_Active_OS, dtype: int64\n"
     ]
    }
   ],
   "source": [
    "# filling value for Most_Active_OS\n",
    "submission.Most_Active_OS = get_most_active_os(user, visitor)\n",
    "submission.Most_Active_OS.fillna(submission.Most_Active_OS.mode(), inplace=True)\n",
    "\n",
    "print(submission.Most_Active_OS.value_counts())"
   ]
  },
  {
   "cell_type": "code",
   "execution_count": 40,
   "id": "atomic-constraint",
   "metadata": {
    "tags": []
   },
   "outputs": [
    {
     "name": "stdout",
     "output_type": "stream",
     "text": [
      "Product101    6056\n",
      "PR100017      1294\n",
      "PR100102      1201\n",
      "PR100166       692\n",
      "PR100200       549\n",
      "              ... \n",
      "PR102440         1\n",
      "PR110569         1\n",
      "PR102679         1\n",
      "PR108029         1\n",
      "PR101431         1\n",
      "Name: Recently_Viewed_Product, Length: 2129, dtype: int64\n"
     ]
    }
   ],
   "source": [
    "# filling value for Recently_Viewed_Product\n",
    "submission.Recently_Viewed_Product = get_recently_viewed_product(user, visitor)\n",
    "submission.Recently_Viewed_Product.fillna('Product101', inplace=True)\n",
    "\n",
    "print(submission.Recently_Viewed_Product.value_counts())"
   ]
  },
  {
   "cell_type": "code",
   "execution_count": 41,
   "id": "original-bulgarian",
   "metadata": {
    "tags": []
   },
   "outputs": [
    {
     "name": "stdout",
     "output_type": "stream",
     "text": [
      "0      20236\n",
      "1       5934\n",
      "2       2673\n",
      "3       1502\n",
      "4        873\n",
      "       ...  \n",
      "89         1\n",
      "313        1\n",
      "122        1\n",
      "93         1\n",
      "95         1\n",
      "Name: Pageloads_last_7_days, Length: 93, dtype: Int64\n"
     ]
    }
   ],
   "source": [
    "# filling value for Pageloads_last_7_days\n",
    "submission.Pageloads_last_7_days = get_user_pageloads(user,visitor)\n",
    "submission.Pageloads_last_7_days.fillna(0, inplace=True)\n",
    "submission = submission.astype({'Pageloads_last_7_days':'Int64'})\n",
    "\n",
    "print(submission.Pageloads_last_7_days.value_counts())"
   ]
  },
  {
   "cell_type": "code",
   "execution_count": 42,
   "id": "needed-wildlife",
   "metadata": {
    "tags": []
   },
   "outputs": [
    {
     "name": "stdout",
     "output_type": "stream",
     "text": [
      "0      23441\n",
      "1       2872\n",
      "2       1620\n",
      "3       1080\n",
      "4        800\n",
      "       ...  \n",
      "342        1\n",
      "252        1\n",
      "508        1\n",
      "129        1\n",
      "511        1\n",
      "Name: Clicks_last_7_days, Length: 201, dtype: Int64\n"
     ]
    }
   ],
   "source": [
    "# filling value for Clicks_last_7_days\n",
    "submission.Clicks_last_7_days = get_user_clicks(user,visitor)\n",
    "submission.Clicks_last_7_days.fillna(0, inplace=True)\n",
    "submission = submission.astype({'Clicks_last_7_days':'Int64'})\n",
    "\n",
    "print(submission.Clicks_last_7_days.value_counts())"
   ]
  },
  {
   "cell_type": "markdown",
   "id": "alternate-category",
   "metadata": {},
   "source": [
    "## Checking submission file for nulls"
   ]
  },
  {
   "cell_type": "code",
   "execution_count": 43,
   "id": "standard-catalog",
   "metadata": {},
   "outputs": [
    {
     "data": {
      "text/plain": [
       "UserID                           0\n",
       "No_of_days_Visited_7_Days        0\n",
       "No_Of_Products_Viewed_15_Days    0\n",
       "User_Vintage                     0\n",
       "Most_Viewed_product_15_Days      0\n",
       "Most_Active_OS                   0\n",
       "Recently_Viewed_Product          0\n",
       "Pageloads_last_7_days            0\n",
       "Clicks_last_7_days               0\n",
       "dtype: int64"
      ]
     },
     "execution_count": 43,
     "metadata": {},
     "output_type": "execute_result"
    }
   ],
   "source": [
    "submission.isnull().sum()"
   ]
  },
  {
   "cell_type": "markdown",
   "id": "substantial-front",
   "metadata": {},
   "source": [
    "## Exporting submission file"
   ]
  },
  {
   "cell_type": "code",
   "execution_count": 44,
   "id": "loose-speed",
   "metadata": {},
   "outputs": [],
   "source": [
    "from datetime import datetime"
   ]
  },
  {
   "cell_type": "code",
   "execution_count": 45,
   "id": "alert-berlin",
   "metadata": {},
   "outputs": [],
   "source": [
    "name = 'sub_{0}.csv'.format(datetime.strftime(datetime.now(),\"%Y-%m-%d_%H_%M_%S\"))"
   ]
  },
  {
   "cell_type": "code",
   "execution_count": 46,
   "id": "afraid-there",
   "metadata": {},
   "outputs": [],
   "source": [
    "submission.to_csv(name, index=False)"
   ]
  }
 ],
 "metadata": {
  "kernelspec": {
   "display_name": "Python 3",
   "language": "python",
   "name": "python3"
  },
  "language_info": {
   "codemirror_mode": {
    "name": "ipython",
    "version": 3
   },
   "file_extension": ".py",
   "mimetype": "text/x-python",
   "name": "python",
   "nbconvert_exporter": "python",
   "pygments_lexer": "ipython3",
   "version": "3.7.4"
  },
  "toc-autonumbering": true
 },
 "nbformat": 4,
 "nbformat_minor": 5
}
